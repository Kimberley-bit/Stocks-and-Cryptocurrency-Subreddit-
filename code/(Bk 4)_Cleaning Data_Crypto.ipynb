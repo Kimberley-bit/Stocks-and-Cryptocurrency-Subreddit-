{
 "cells": [
  {
   "cell_type": "markdown",
   "id": "55cefb14",
   "metadata": {},
   "source": [
    "# Cleaning Data: CryptoCurrency (bk 4)"
   ]
  },
  {
   "cell_type": "code",
   "execution_count": 1,
   "id": "d1eea081",
   "metadata": {},
   "outputs": [],
   "source": [
    "import pandas as pd\n",
    "import numpy as np"
   ]
  },
  {
   "cell_type": "code",
   "execution_count": 2,
   "id": "8b1f8737",
   "metadata": {},
   "outputs": [],
   "source": [
    "crypto_clean = pd.read_csv('../data/df_crypto.csv')"
   ]
  },
  {
   "cell_type": "code",
   "execution_count": 3,
   "id": "946bb364",
   "metadata": {},
   "outputs": [
    {
     "data": {
      "text/plain": [
       "(5100, 4)"
      ]
     },
     "execution_count": 3,
     "metadata": {},
     "output_type": "execute_result"
    }
   ],
   "source": [
    "# Checking shape of crypto\n",
    "crypto_clean.shape"
   ]
  },
  {
   "cell_type": "code",
   "execution_count": 4,
   "id": "12f65307",
   "metadata": {},
   "outputs": [
    {
     "data": {
      "text/plain": [
       "subreddit         0\n",
       "selftext       1875\n",
       "title             0\n",
       "created_utc       0\n",
       "dtype: int64"
      ]
     },
     "execution_count": 4,
     "metadata": {},
     "output_type": "execute_result"
    }
   ],
   "source": [
    "crypto_clean.isnull().sum()"
   ]
  },
  {
   "cell_type": "code",
   "execution_count": 5,
   "id": "614ef6e2",
   "metadata": {},
   "outputs": [],
   "source": [
    "# Dropping all '[removed]' from col = 'selftext'\n",
    "crypto_clean = crypto_clean.drop(crypto_clean[(crypto_clean['selftext'] == '[removed]')].index)\n",
    " "
   ]
  },
  {
   "cell_type": "code",
   "execution_count": 6,
   "id": "1d208302",
   "metadata": {},
   "outputs": [
    {
     "data": {
      "text/plain": [
       "(3930, 4)"
      ]
     },
     "execution_count": 6,
     "metadata": {},
     "output_type": "execute_result"
    }
   ],
   "source": [
    "# To check\n",
    "crypto_clean.shape"
   ]
  },
  {
   "cell_type": "code",
   "execution_count": 7,
   "id": "b97154e9",
   "metadata": {},
   "outputs": [],
   "source": [
    "# Dropping all null values from col = 'selftext'\n",
    "crypto_clean = crypto_clean.drop(crypto_clean[(crypto_clean['selftext'].isna() == True)].index)"
   ]
  },
  {
   "cell_type": "code",
   "execution_count": 8,
   "id": "f9047635",
   "metadata": {},
   "outputs": [
    {
     "data": {
      "text/plain": [
       "(2055, 4)"
      ]
     },
     "execution_count": 8,
     "metadata": {},
     "output_type": "execute_result"
    }
   ],
   "source": [
    "# To check\n",
    "crypto_clean.shape"
   ]
  },
  {
   "cell_type": "code",
   "execution_count": 9,
   "id": "719cb689",
   "metadata": {},
   "outputs": [],
   "source": [
    "# Removing '[removed]' and anything other text that coomes with it \n",
    "crypto_clean = crypto_clean.loc[crypto_clean['selftext'].str.contains(r'\\[removed\\]') != True]"
   ]
  },
  {
   "cell_type": "code",
   "execution_count": 10,
   "id": "9a5145a6",
   "metadata": {},
   "outputs": [
    {
     "data": {
      "text/plain": [
       "(2044, 4)"
      ]
     },
     "execution_count": 10,
     "metadata": {},
     "output_type": "execute_result"
    }
   ],
   "source": [
    "crypto_clean.shape"
   ]
  },
  {
   "cell_type": "code",
   "execution_count": 11,
   "id": "b765daea",
   "metadata": {},
   "outputs": [],
   "source": [
    "# Dropping any duplicates\n",
    "crypto_clean.drop_duplicates(subset=[\"selftext\"], keep='last', inplace = True)"
   ]
  },
  {
   "cell_type": "code",
   "execution_count": 12,
   "id": "75690e29",
   "metadata": {},
   "outputs": [
    {
     "data": {
      "text/plain": [
       "(2006, 4)"
      ]
     },
     "execution_count": 12,
     "metadata": {},
     "output_type": "execute_result"
    }
   ],
   "source": [
    "# To check\n",
    "crypto_clean.shape"
   ]
  },
  {
   "cell_type": "code",
   "execution_count": 13,
   "id": "8dd4882c",
   "metadata": {},
   "outputs": [],
   "source": [
    "# Drop last 46 rows of dataframe\n",
    "N = 306\n",
    "crypto_clean.drop(index = crypto_clean.index[-N:], axis=0, inplace=True)"
   ]
  },
  {
   "cell_type": "code",
   "execution_count": 14,
   "id": "bfa1e049",
   "metadata": {},
   "outputs": [
    {
     "data": {
      "text/plain": [
       "(1700, 4)"
      ]
     },
     "execution_count": 14,
     "metadata": {},
     "output_type": "execute_result"
    }
   ],
   "source": [
    "crypto_clean.shape"
   ]
  },
  {
   "cell_type": "code",
   "execution_count": 15,
   "id": "49b88d9c",
   "metadata": {},
   "outputs": [],
   "source": [
    "# exporting\n",
    "crypto_clean.to_csv('crypto_clean.csv', index = False)"
   ]
  },
  {
   "cell_type": "code",
   "execution_count": null,
   "id": "43ec509d",
   "metadata": {},
   "outputs": [],
   "source": []
  },
  {
   "cell_type": "code",
   "execution_count": null,
   "id": "5809f613",
   "metadata": {},
   "outputs": [],
   "source": []
  }
 ],
 "metadata": {
  "kernelspec": {
   "display_name": "Python 3",
   "language": "python",
   "name": "python3"
  },
  "language_info": {
   "codemirror_mode": {
    "name": "ipython",
    "version": 3
   },
   "file_extension": ".py",
   "mimetype": "text/x-python",
   "name": "python",
   "nbconvert_exporter": "python",
   "pygments_lexer": "ipython3",
   "version": "3.8.8"
  }
 },
 "nbformat": 4,
 "nbformat_minor": 5
}
