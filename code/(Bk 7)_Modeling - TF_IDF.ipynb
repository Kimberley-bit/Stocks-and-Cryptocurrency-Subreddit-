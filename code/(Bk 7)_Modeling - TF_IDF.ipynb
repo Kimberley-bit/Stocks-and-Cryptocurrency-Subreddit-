{
 "cells": [
  {
   "cell_type": "markdown",
   "id": "c96d3935",
   "metadata": {},
   "source": [
    "# Modeling -  TF/IDF (bk 7)\n",
    "\n",
    "#### In this Notebook:\n",
    "        7.1: Train, Test, Split\n",
    "        7.2: Bernoulli Naive Bayes\n",
    "            7.2.1: Bernoulli Naive Bayes\n",
    "            7.2.2: Multinomial Naive Bayes\n",
    "            7.2.3: Gaussian Naive Bayes\n",
    "            7.2.4: Optimisation of Bernoulli Naive Bayes\n",
    "        7.4: Logistic Regression\n",
    "            7.4.1: Model Evaluation\n",
    "        7.3: KNN Neighbor\n",
    "            7.3.1: Model Fitting and Evaluation"
   ]
  },
  {
   "cell_type": "code",
   "execution_count": 1,
   "id": "7c669372",
   "metadata": {},
   "outputs": [],
   "source": [
    "import numpy as np\n",
    "import pandas as pd\n",
    "import sklearn\n",
    "import seaborn as sns\n",
    "import matplotlib as plt\n",
    "\n",
    "from sklearn.model_selection import train_test_split, cross_val_score \n",
    "from sklearn.model_selection import GridSearchCV,RandomizedSearchCV\n",
    "from sklearn.model_selection import cross_val_predict\n",
    "from sklearn import metrics\n",
    "from sklearn.preprocessing import StandardScaler\n",
    "from sklearn.metrics import classification_report\n",
    "from sklearn.metrics import confusion_matrix\n",
    "from sklearn.metrics import accuracy_score, precision_score, recall_score\n",
    "from sklearn.feature_extraction.text import CountVectorizer, TfidfVectorizer\n",
    "\n",
    "from sklearn.naive_bayes import BernoulliNB\n",
    "from sklearn.naive_bayes import GaussianNB\n",
    "from sklearn.naive_bayes import MultinomialNB\n",
    "from sklearn.linear_model import LogisticRegression\n",
    "from sklearn.preprocessing import OneHotEncoder\n",
    "from sklearn.neighbors import KNeighborsClassifier\n",
    "from sklearn.pipeline import make_pipeline, Pipeline"
   ]
  },
  {
   "cell_type": "code",
   "execution_count": 2,
   "id": "d05297eb",
   "metadata": {},
   "outputs": [],
   "source": [
    "# Sparse Metric\n",
    "X_tfidf_df = pd.read_csv('../data/X_tfidf_df.csv')"
   ]
  },
  {
   "cell_type": "code",
   "execution_count": 3,
   "id": "5050526a",
   "metadata": {},
   "outputs": [],
   "source": [
    "data_clean = pd.read_csv ('../data/data_clean.csv')"
   ]
  },
  {
   "cell_type": "code",
   "execution_count": 4,
   "id": "02500d6b",
   "metadata": {},
   "outputs": [
    {
     "data": {
      "text/html": [
       "<div>\n",
       "<style scoped>\n",
       "    .dataframe tbody tr th:only-of-type {\n",
       "        vertical-align: middle;\n",
       "    }\n",
       "\n",
       "    .dataframe tbody tr th {\n",
       "        vertical-align: top;\n",
       "    }\n",
       "\n",
       "    .dataframe thead th {\n",
       "        text-align: right;\n",
       "    }\n",
       "</style>\n",
       "<table border=\"1\" class=\"dataframe\">\n",
       "  <thead>\n",
       "    <tr style=\"text-align: right;\">\n",
       "      <th></th>\n",
       "      <th>subreddit</th>\n",
       "      <th>selftext_title</th>\n",
       "      <th>created_utc</th>\n",
       "    </tr>\n",
       "  </thead>\n",
       "  <tbody>\n",
       "    <tr>\n",
       "      <th>0</th>\n",
       "      <td>stocks</td>\n",
       "      <td>I am earning very little at the moment but I w...</td>\n",
       "      <td>1626851004</td>\n",
       "    </tr>\n",
       "    <tr>\n",
       "      <th>1</th>\n",
       "      <td>stocks</td>\n",
       "      <td>The stocks I chose were aapl, net, asts, icln,...</td>\n",
       "      <td>1626847423</td>\n",
       "    </tr>\n",
       "    <tr>\n",
       "      <th>2</th>\n",
       "      <td>stocks</td>\n",
       "      <td>Retail owns the companies so it could happen i...</td>\n",
       "      <td>1626846017</td>\n",
       "    </tr>\n",
       "    <tr>\n",
       "      <th>3</th>\n",
       "      <td>stocks</td>\n",
       "      <td>Hi,\\n\\nI'm looking for the best software to tr...</td>\n",
       "      <td>1626845812</td>\n",
       "    </tr>\n",
       "    <tr>\n",
       "      <th>4</th>\n",
       "      <td>stocks</td>\n",
       "      <td>I'm not a car guy and I'm not an EV guy.  Def ...</td>\n",
       "      <td>1626840162</td>\n",
       "    </tr>\n",
       "  </tbody>\n",
       "</table>\n",
       "</div>"
      ],
      "text/plain": [
       "  subreddit                                     selftext_title  created_utc\n",
       "0    stocks  I am earning very little at the moment but I w...   1626851004\n",
       "1    stocks  The stocks I chose were aapl, net, asts, icln,...   1626847423\n",
       "2    stocks  Retail owns the companies so it could happen i...   1626846017\n",
       "3    stocks  Hi,\\n\\nI'm looking for the best software to tr...   1626845812\n",
       "4    stocks  I'm not a car guy and I'm not an EV guy.  Def ...   1626840162"
      ]
     },
     "execution_count": 4,
     "metadata": {},
     "output_type": "execute_result"
    }
   ],
   "source": [
    "data_clean.head()"
   ]
  },
  {
   "cell_type": "code",
   "execution_count": 5,
   "id": "f2087ff8",
   "metadata": {},
   "outputs": [],
   "source": [
    "# Dropping the created_utc \n",
    "data_clean = data_clean.drop( ['created_utc'], axis = 1)"
   ]
  },
  {
   "cell_type": "code",
   "execution_count": 6,
   "id": "4669b9c6",
   "metadata": {},
   "outputs": [
    {
     "data": {
      "text/html": [
       "<div>\n",
       "<style scoped>\n",
       "    .dataframe tbody tr th:only-of-type {\n",
       "        vertical-align: middle;\n",
       "    }\n",
       "\n",
       "    .dataframe tbody tr th {\n",
       "        vertical-align: top;\n",
       "    }\n",
       "\n",
       "    .dataframe thead th {\n",
       "        text-align: right;\n",
       "    }\n",
       "</style>\n",
       "<table border=\"1\" class=\"dataframe\">\n",
       "  <thead>\n",
       "    <tr style=\"text-align: right;\">\n",
       "      <th></th>\n",
       "      <th>subreddit</th>\n",
       "      <th>selftext_title</th>\n",
       "    </tr>\n",
       "  </thead>\n",
       "  <tbody>\n",
       "    <tr>\n",
       "      <th>0</th>\n",
       "      <td>stocks</td>\n",
       "      <td>I am earning very little at the moment but I w...</td>\n",
       "    </tr>\n",
       "    <tr>\n",
       "      <th>1</th>\n",
       "      <td>stocks</td>\n",
       "      <td>The stocks I chose were aapl, net, asts, icln,...</td>\n",
       "    </tr>\n",
       "    <tr>\n",
       "      <th>2</th>\n",
       "      <td>stocks</td>\n",
       "      <td>Retail owns the companies so it could happen i...</td>\n",
       "    </tr>\n",
       "    <tr>\n",
       "      <th>3</th>\n",
       "      <td>stocks</td>\n",
       "      <td>Hi,\\n\\nI'm looking for the best software to tr...</td>\n",
       "    </tr>\n",
       "    <tr>\n",
       "      <th>4</th>\n",
       "      <td>stocks</td>\n",
       "      <td>I'm not a car guy and I'm not an EV guy.  Def ...</td>\n",
       "    </tr>\n",
       "  </tbody>\n",
       "</table>\n",
       "</div>"
      ],
      "text/plain": [
       "  subreddit                                     selftext_title\n",
       "0    stocks  I am earning very little at the moment but I w...\n",
       "1    stocks  The stocks I chose were aapl, net, asts, icln,...\n",
       "2    stocks  Retail owns the companies so it could happen i...\n",
       "3    stocks  Hi,\\n\\nI'm looking for the best software to tr...\n",
       "4    stocks  I'm not a car guy and I'm not an EV guy.  Def ..."
      ]
     },
     "execution_count": 6,
     "metadata": {},
     "output_type": "execute_result"
    }
   ],
   "source": [
    "data_clean.head()"
   ]
  },
  {
   "cell_type": "code",
   "execution_count": 7,
   "id": "19aaafc7",
   "metadata": {},
   "outputs": [
    {
     "data": {
      "text/html": [
       "<div>\n",
       "<style scoped>\n",
       "    .dataframe tbody tr th:only-of-type {\n",
       "        vertical-align: middle;\n",
       "    }\n",
       "\n",
       "    .dataframe tbody tr th {\n",
       "        vertical-align: top;\n",
       "    }\n",
       "\n",
       "    .dataframe thead th {\n",
       "        text-align: right;\n",
       "    }\n",
       "</style>\n",
       "<table border=\"1\" class=\"dataframe\">\n",
       "  <thead>\n",
       "    <tr style=\"text-align: right;\">\n",
       "      <th></th>\n",
       "      <th>subreddit</th>\n",
       "      <th>selftext_title</th>\n",
       "    </tr>\n",
       "  </thead>\n",
       "  <tbody>\n",
       "    <tr>\n",
       "      <th>3395</th>\n",
       "      <td>CryptoCurrency</td>\n",
       "      <td>I’ve started seeing posts on here acknowledgin...</td>\n",
       "    </tr>\n",
       "    <tr>\n",
       "      <th>3396</th>\n",
       "      <td>CryptoCurrency</td>\n",
       "      <td>Let me get started.\\n\\nIt was after the Snowde...</td>\n",
       "    </tr>\n",
       "    <tr>\n",
       "      <th>3397</th>\n",
       "      <td>CryptoCurrency</td>\n",
       "      <td>I have been thinking about this for sometime a...</td>\n",
       "    </tr>\n",
       "    <tr>\n",
       "      <th>3398</th>\n",
       "      <td>CryptoCurrency</td>\n",
       "      <td>I'm curious as to how mining and the price of ...</td>\n",
       "    </tr>\n",
       "    <tr>\n",
       "      <th>3399</th>\n",
       "      <td>CryptoCurrency</td>\n",
       "      <td>Hey guys, \\n\\nSo the post a few days ago about...</td>\n",
       "    </tr>\n",
       "  </tbody>\n",
       "</table>\n",
       "</div>"
      ],
      "text/plain": [
       "           subreddit                                     selftext_title\n",
       "3395  CryptoCurrency  I’ve started seeing posts on here acknowledgin...\n",
       "3396  CryptoCurrency  Let me get started.\\n\\nIt was after the Snowde...\n",
       "3397  CryptoCurrency  I have been thinking about this for sometime a...\n",
       "3398  CryptoCurrency  I'm curious as to how mining and the price of ...\n",
       "3399  CryptoCurrency  Hey guys, \\n\\nSo the post a few days ago about..."
      ]
     },
     "execution_count": 7,
     "metadata": {},
     "output_type": "execute_result"
    }
   ],
   "source": [
    "data_clean.tail()"
   ]
  },
  {
   "cell_type": "code",
   "execution_count": 8,
   "id": "a9617d39",
   "metadata": {},
   "outputs": [],
   "source": [
    "di = {'stocks': 1, 'CryptoCurrency' :0}\n",
    "data_clean['subreddit'] = data_clean['subreddit'].map(di)"
   ]
  },
  {
   "cell_type": "code",
   "execution_count": 9,
   "id": "c84f0386",
   "metadata": {},
   "outputs": [
    {
     "data": {
      "text/plain": [
       "(3400, 2)"
      ]
     },
     "execution_count": 9,
     "metadata": {},
     "output_type": "execute_result"
    }
   ],
   "source": [
    "data_clean.shape"
   ]
  },
  {
   "cell_type": "code",
   "execution_count": 10,
   "id": "0f1ff63a",
   "metadata": {},
   "outputs": [],
   "source": [
    "# assigning X and y\n",
    "X = X_tfidf_df\n",
    "y = data_clean['subreddit']"
   ]
  },
  {
   "cell_type": "code",
   "execution_count": 11,
   "id": "b60d6670",
   "metadata": {},
   "outputs": [
    {
     "data": {
      "text/plain": [
       "(3400,)"
      ]
     },
     "execution_count": 11,
     "metadata": {},
     "output_type": "execute_result"
    }
   ],
   "source": [
    "y.shape"
   ]
  },
  {
   "cell_type": "code",
   "execution_count": 12,
   "id": "588bc4d5",
   "metadata": {},
   "outputs": [
    {
     "data": {
      "text/plain": [
       "0    1\n",
       "1    1\n",
       "2    1\n",
       "3    1\n",
       "4    1\n",
       "Name: subreddit, dtype: int64"
      ]
     },
     "execution_count": 12,
     "metadata": {},
     "output_type": "execute_result"
    }
   ],
   "source": [
    "y.head()"
   ]
  },
  {
   "cell_type": "code",
   "execution_count": 13,
   "id": "7097bd76",
   "metadata": {},
   "outputs": [
    {
     "data": {
      "text/plain": [
       "3395    0\n",
       "3396    0\n",
       "3397    0\n",
       "3398    0\n",
       "3399    0\n",
       "Name: subreddit, dtype: int64"
      ]
     },
     "execution_count": 13,
     "metadata": {},
     "output_type": "execute_result"
    }
   ],
   "source": [
    "y.tail()"
   ]
  },
  {
   "cell_type": "markdown",
   "id": "ec593fcd",
   "metadata": {},
   "source": [
    "### 7.1 Train, Test, Split"
   ]
  },
  {
   "cell_type": "code",
   "execution_count": 14,
   "id": "b1a24772",
   "metadata": {},
   "outputs": [],
   "source": [
    "X_train, X_test, y_train, y_test = train_test_split(X, y, test_size = .3, stratify = y, random_state = 40)"
   ]
  },
  {
   "cell_type": "markdown",
   "id": "463549ca",
   "metadata": {},
   "source": [
    "### 7.2 Bernoulli Naive Bayes"
   ]
  },
  {
   "cell_type": "markdown",
   "id": "2daf9e34",
   "metadata": {},
   "source": [
    "#### 7.2.1 Using Bernoulli Naive Bayes to predict"
   ]
  },
  {
   "cell_type": "code",
   "execution_count": 15,
   "id": "cf1b5eaa",
   "metadata": {},
   "outputs": [
    {
     "name": "stdout",
     "output_type": "stream",
     "text": [
      "BernoulliNB(binarize=True)\n",
      "0.5\n",
      "0.5004201680672269\n",
      "0.5009803921568627\n",
      "0.5009803921568627\n"
     ]
    }
   ],
   "source": [
    "BernNB = BernoulliNB(binarize = True)\n",
    "BernNB.fit(X_train, y_train)\n",
    "print(BernNB)\n",
    "\n",
    "y_expect = y_test\n",
    "\n",
    "# Predicting Y = subreddit\n",
    "y_pred = BernNB.predict(X_test)\n",
    "\n",
    "# Cross-Validation\n",
    "print(cross_val_score(BernNB, X_train, y_train, cv = 5).mean())\n",
    "\n",
    "# Accuracy score of train\n",
    "print(BernNB.score(X_train, y_train))\n",
    "\n",
    "# Accuracy score of test\n",
    "print(BernNB.score(X_test, y_test))\n",
    "\n",
    "# Accuracy for y_expect and y_pred\n",
    "print(accuracy_score(y_expect, y_pred))"
   ]
  },
  {
   "cell_type": "markdown",
   "id": "bf41190b",
   "metadata": {},
   "source": [
    "#### 7.2.3 Using Multinomial Naive Bayes to predict"
   ]
  },
  {
   "cell_type": "code",
   "execution_count": 16,
   "id": "6bfa9275",
   "metadata": {},
   "outputs": [
    {
     "name": "stdout",
     "output_type": "stream",
     "text": [
      "MultinomialNB()\n",
      "0.6029411764705882\n",
      "0.6348739495798319\n",
      "0.6137254901960785\n",
      "0.6137254901960785\n"
     ]
    }
   ],
   "source": [
    "MultiNB = MultinomialNB()\n",
    "MultiNB.fit(X_train, y_train)\n",
    "print(MultiNB)\n",
    "\n",
    "# Predicting Y = subreddit \n",
    "y_pred = MultiNB.predict(X_test)\n",
    "\n",
    "# Cross-Validation\n",
    "print(cross_val_score(MultiNB, X_train, y_train, cv = 5).mean())\n",
    "\n",
    "# Accuracy score of train\n",
    "print(MultiNB.score(X_train, y_train))\n",
    "\n",
    "# Accuracy score of test\n",
    "print(MultiNB.score(X_test, y_test))\n",
    "\n",
    "# Accuracy for y_test and y_pred\n",
    "print(accuracy_score(y_test, y_pred))"
   ]
  },
  {
   "cell_type": "markdown",
   "id": "2b431a06",
   "metadata": {},
   "source": [
    "#### 7.2.4 Using Gaussian Naive Bayes to predict"
   ]
  },
  {
   "cell_type": "code",
   "execution_count": 17,
   "id": "3bc75e75",
   "metadata": {},
   "outputs": [
    {
     "name": "stdout",
     "output_type": "stream",
     "text": [
      "GaussianNB()\n",
      "0.9239495798319328\n",
      "0.9794117647058823\n",
      "0.9303921568627451\n",
      "0.9303921568627451\n"
     ]
    }
   ],
   "source": [
    "GausNB = GaussianNB()\n",
    "GausNB.fit(X_train, y_train)\n",
    "print(GausNB)\n",
    "\n",
    "# Predicting Y = subreddit \n",
    "y_pred = GausNB.predict(X_test)\n",
    "\n",
    "# Cross-Validation\n",
    "print(cross_val_score(GausNB, X_train, y_train, cv = 5).mean())\n",
    "\n",
    "# Accuracy score of train\n",
    "print(GausNB.score(X_train, y_train))\n",
    "\n",
    "# Accuracy score of test\n",
    "print(GausNB.score(X_test, y_test))\n",
    "\n",
    "# Accuracy for y_test and y_pred\n",
    "print(accuracy_score(y_test, y_pred))"
   ]
  },
  {
   "cell_type": "markdown",
   "id": "6cdecae2",
   "metadata": {},
   "source": [
    "#### 7.2.5 Optimisation of Bernoulli Naive Bayes"
   ]
  },
  {
   "cell_type": "code",
   "execution_count": 18,
   "id": "150546a3",
   "metadata": {},
   "outputs": [
    {
     "name": "stdout",
     "output_type": "stream",
     "text": [
      "BernoulliNB(binarize=0.1)\n",
      "0.9281512605042017\n",
      "0.9869747899159664\n",
      "0.9333333333333333\n",
      "0.9333333333333333\n"
     ]
    }
   ],
   "source": [
    "BernNB = BernoulliNB(binarize = 0.1)\n",
    "BernNB.fit(X_train, y_train)\n",
    "print(BernNB)\n",
    "\n",
    "y_expect = y_test\n",
    "\n",
    "# Predicting Y = subreddit \n",
    "y_pred = BernNB.predict(X_test)\n",
    "\n",
    "# Cross-Validation\n",
    "print(cross_val_score(BernNB, X_train, y_train, cv = 5).mean())\n",
    "\n",
    "# Accuracy score of train\n",
    "print(BernNB.score(X_train, y_train))\n",
    "\n",
    "# Accuracy score of test\n",
    "print(BernNB.score(X_test, y_test))\n",
    "\n",
    "# Accuracy for y_expect and y_pred\n",
    "print(accuracy_score(y_expect, y_pred))"
   ]
  },
  {
   "cell_type": "markdown",
   "id": "5d486231",
   "metadata": {},
   "source": [
    "#### 7.2.4 Model Evaluation of Multinomial Naive Bayes"
   ]
  },
  {
   "cell_type": "code",
   "execution_count": 19,
   "id": "647edd50",
   "metadata": {},
   "outputs": [
    {
     "name": "stdout",
     "output_type": "stream",
     "text": [
      "MultinomialNB()\n"
     ]
    }
   ],
   "source": [
    "MultiNB = MultinomialNB()\n",
    "MultiNB.fit(X_train, y_train)\n",
    "print(MultiNB)\n",
    "\n",
    "# predicting Y = subreddit \n",
    "y_pred = MultiNB.predict(X_test) "
   ]
  },
  {
   "cell_type": "code",
   "execution_count": 20,
   "id": "3bbda4dd",
   "metadata": {},
   "outputs": [
    {
     "name": "stdout",
     "output_type": "stream",
     "text": [
      "              precision    recall  f1-score   support\n",
      "\n",
      "           0       0.56      1.00      0.72       510\n",
      "           1       1.00      0.23      0.37       510\n",
      "\n",
      "    accuracy                           0.61      1020\n",
      "   macro avg       0.78      0.61      0.55      1020\n",
      "weighted avg       0.78      0.61      0.55      1020\n",
      "\n"
     ]
    }
   ],
   "source": [
    "# classification report\n",
    "print(classification_report(y_test, y_pred))"
   ]
  },
  {
   "cell_type": "code",
   "execution_count": 21,
   "id": "32965bb1",
   "metadata": {},
   "outputs": [
    {
     "name": "stdout",
     "output_type": "stream",
     "text": [
      "accuracy score: 0.6137254901960785\n",
      "precision score: 1.0\n",
      "recall score: 0.22745098039215686\n",
      "specificity score: 1.0\n"
     ]
    }
   ],
   "source": [
    "cm = confusion_matrix(y_test, y_pred)\n",
    "\n",
    "tn, fp, fn, tp = cm.ravel()\n",
    "\n",
    "# scores\n",
    "accuracy_score = accuracy_score(y_test, y_pred)\n",
    "precision_score = precision_score(y_test, y_pred)\n",
    "recall_score = recall_score = recall_score(y_test, y_pred)\n",
    "specificity_score = tn / (tn + fp)\n",
    "\n",
    "print('accuracy score: ' + str(accuracy_score))\n",
    "print('precision score: ' + str(precision_score))\n",
    "print('recall score: ' + str(recall_score))\n",
    "print('specificity score: ' + str(specificity_score))"
   ]
  },
  {
   "cell_type": "markdown",
   "id": "8238dfa6",
   "metadata": {},
   "source": [
    "### 7.2.3 Logistic Regression"
   ]
  },
  {
   "cell_type": "code",
   "execution_count": 22,
   "id": "b80737a9",
   "metadata": {},
   "outputs": [],
   "source": [
    "X_train, X_test, y_train, y_test = train_test_split(X, y, test_size = .3, stratify = y, random_state = 40)"
   ]
  },
  {
   "cell_type": "code",
   "execution_count": 23,
   "id": "d1290715",
   "metadata": {},
   "outputs": [
    {
     "data": {
      "text/plain": [
       "LogisticRegression(solver='liblinear')"
      ]
     },
     "execution_count": 23,
     "metadata": {},
     "output_type": "execute_result"
    }
   ],
   "source": [
    "LogReg = LogisticRegression(solver = 'liblinear')\n",
    "LogReg.fit(X_train, y_train)"
   ]
  },
  {
   "cell_type": "code",
   "execution_count": 24,
   "id": "b4b0b650",
   "metadata": {},
   "outputs": [],
   "source": [
    "y_pred = LogReg.predict(X_test)"
   ]
  },
  {
   "cell_type": "markdown",
   "id": "84db7a84",
   "metadata": {},
   "source": [
    "#### Model Evaluation"
   ]
  },
  {
   "cell_type": "code",
   "execution_count": 25,
   "id": "e627dff9",
   "metadata": {},
   "outputs": [
    {
     "name": "stdout",
     "output_type": "stream",
     "text": [
      "              precision    recall  f1-score   support\n",
      "\n",
      "           0       0.99      1.00      0.99       510\n",
      "           1       1.00      0.99      0.99       510\n",
      "\n",
      "    accuracy                           0.99      1020\n",
      "   macro avg       0.99      0.99      0.99      1020\n",
      "weighted avg       0.99      0.99      0.99      1020\n",
      "\n"
     ]
    }
   ],
   "source": [
    "# classification report\n",
    "print(classification_report(y_test, y_pred))"
   ]
  },
  {
   "cell_type": "code",
   "execution_count": 26,
   "id": "3acb75ba",
   "metadata": {},
   "outputs": [
    {
     "data": {
      "text/plain": [
       "array([[1190,    0],\n",
       "       [   6, 1184]], dtype=int64)"
      ]
     },
     "execution_count": 26,
     "metadata": {},
     "output_type": "execute_result"
    }
   ],
   "source": [
    "y_train_pred = cross_val_predict(LogReg, X_train, y_train, cv = 5)\n",
    "confusion_matrix(y_train, y_train_pred)"
   ]
  },
  {
   "cell_type": "markdown",
   "id": "cd0b5a54",
   "metadata": {},
   "source": [
    "### 7.2.4 KNN Neighbor"
   ]
  },
  {
   "cell_type": "code",
   "execution_count": 27,
   "id": "935cfd60",
   "metadata": {},
   "outputs": [],
   "source": [
    "X_train, X_test, y_train, y_test = train_test_split(X, y, test_size = .3, stratify = y, random_state = 40)"
   ]
  },
  {
   "cell_type": "code",
   "execution_count": 28,
   "id": "06bd7ba6",
   "metadata": {},
   "outputs": [],
   "source": [
    "ss = StandardScaler()\n",
    "X_train_sc = ss.fit_transform(X_train)\n",
    "X_test_sc = ss.transform(X_test)"
   ]
  },
  {
   "cell_type": "code",
   "execution_count": 29,
   "id": "c169e6fc",
   "metadata": {},
   "outputs": [
    {
     "data": {
      "text/plain": [
       "0.5336134453781513"
      ]
     },
     "execution_count": 29,
     "metadata": {},
     "output_type": "execute_result"
    }
   ],
   "source": [
    "# Instantiate KNN\n",
    "knn = KNeighborsClassifier(n_neighbors = 3)\n",
    "\n",
    "# Cross-validation\n",
    "cross_val_score(knn, X_train_sc, y_train, cv = 5).mean()"
   ]
  },
  {
   "cell_type": "markdown",
   "id": "13c35aff",
   "metadata": {},
   "source": [
    "#### Model Fitting and Evaluation"
   ]
  },
  {
   "cell_type": "code",
   "execution_count": 30,
   "id": "9168fa8d",
   "metadata": {},
   "outputs": [
    {
     "data": {
      "text/plain": [
       "0.9983193277310924"
      ]
     },
     "execution_count": 30,
     "metadata": {},
     "output_type": "execute_result"
    }
   ],
   "source": [
    "knn.fit(X_train_sc, y_train)\n",
    "knn.score(X_train_sc, y_train)"
   ]
  },
  {
   "cell_type": "code",
   "execution_count": 31,
   "id": "78af1ece",
   "metadata": {},
   "outputs": [
    {
     "data": {
      "text/plain": [
       "0.5450980392156862"
      ]
     },
     "execution_count": 31,
     "metadata": {},
     "output_type": "execute_result"
    }
   ],
   "source": [
    "knn.score(X_test_sc, y_test)"
   ]
  },
  {
   "cell_type": "code",
   "execution_count": 32,
   "id": "c48c02c9",
   "metadata": {},
   "outputs": [
    {
     "data": {
      "text/plain": [
       "0.5019607843137255"
      ]
     },
     "execution_count": 32,
     "metadata": {},
     "output_type": "execute_result"
    }
   ],
   "source": [
    "cross_val_score(knn, X_test_sc, y_test, cv = 5).mean()"
   ]
  },
  {
   "cell_type": "code",
   "execution_count": null,
   "id": "42bd5d1f",
   "metadata": {},
   "outputs": [],
   "source": []
  }
 ],
 "metadata": {
  "kernelspec": {
   "display_name": "Python 3",
   "language": "python",
   "name": "python3"
  },
  "language_info": {
   "codemirror_mode": {
    "name": "ipython",
    "version": 3
   },
   "file_extension": ".py",
   "mimetype": "text/x-python",
   "name": "python",
   "nbconvert_exporter": "python",
   "pygments_lexer": "ipython3",
   "version": "3.8.8"
  }
 },
 "nbformat": 4,
 "nbformat_minor": 5
}
