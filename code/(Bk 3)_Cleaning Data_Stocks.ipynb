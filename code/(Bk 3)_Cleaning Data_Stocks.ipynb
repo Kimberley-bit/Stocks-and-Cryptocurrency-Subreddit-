{
 "cells": [
  {
   "cell_type": "markdown",
   "id": "2509479f",
   "metadata": {},
   "source": [
    "# Cleaning Data: Stocks (bk 3)"
   ]
  },
  {
   "cell_type": "code",
   "execution_count": 1,
   "id": "629ded16",
   "metadata": {},
   "outputs": [],
   "source": [
    "import pandas as pd\n",
    "import numpy as np"
   ]
  },
  {
   "cell_type": "code",
   "execution_count": 2,
   "id": "6cee7abf",
   "metadata": {},
   "outputs": [],
   "source": [
    "stocks_clean = pd.read_csv('../data/df_stocks.csv')"
   ]
  },
  {
   "cell_type": "code",
   "execution_count": 3,
   "id": "dce6d459",
   "metadata": {},
   "outputs": [
    {
     "data": {
      "text/plain": [
       "(5100, 4)"
      ]
     },
     "execution_count": 3,
     "metadata": {},
     "output_type": "execute_result"
    }
   ],
   "source": [
    "stocks_clean.shape"
   ]
  },
  {
   "cell_type": "code",
   "execution_count": 4,
   "id": "3642c3f6",
   "metadata": {},
   "outputs": [
    {
     "data": {
      "text/plain": [
       "subreddit       0\n",
       "selftext       14\n",
       "title           0\n",
       "created_utc     0\n",
       "dtype: int64"
      ]
     },
     "execution_count": 4,
     "metadata": {},
     "output_type": "execute_result"
    }
   ],
   "source": [
    "stocks_clean.isnull().sum()"
   ]
  },
  {
   "cell_type": "code",
   "execution_count": 5,
   "id": "f2a4963a",
   "metadata": {},
   "outputs": [],
   "source": [
    "# Dropping all '[removed]' from col = 'selftext'\n",
    "stocks_clean = stocks_clean.drop(stocks_clean[(stocks_clean['selftext'] == '[removed]')].index)\n"
   ]
  },
  {
   "cell_type": "code",
   "execution_count": 6,
   "id": "5f4320d9",
   "metadata": {},
   "outputs": [],
   "source": [
    "# Dropping all null values from col = 'selftext'\n",
    "stocks_clean = stocks_clean.drop(stocks_clean[(stocks_clean['selftext'].isna() == True)].index)"
   ]
  },
  {
   "cell_type": "code",
   "execution_count": 7,
   "id": "cdbc7ab7",
   "metadata": {
    "scrolled": true
   },
   "outputs": [
    {
     "data": {
      "text/plain": [
       "(1795, 4)"
      ]
     },
     "execution_count": 7,
     "metadata": {},
     "output_type": "execute_result"
    }
   ],
   "source": [
    "stocks_clean.shape"
   ]
  },
  {
   "cell_type": "code",
   "execution_count": 8,
   "id": "358839d5",
   "metadata": {},
   "outputs": [],
   "source": [
    "# Dropping any duplicates\n",
    "stocks_clean.drop_duplicates(subset=[\"selftext\"], keep='last', inplace = True)"
   ]
  },
  {
   "cell_type": "code",
   "execution_count": 9,
   "id": "c6841f06",
   "metadata": {},
   "outputs": [
    {
     "data": {
      "text/plain": [
       "(1746, 4)"
      ]
     },
     "execution_count": 9,
     "metadata": {},
     "output_type": "execute_result"
    }
   ],
   "source": [
    "stocks_clean.shape"
   ]
  },
  {
   "cell_type": "code",
   "execution_count": 10,
   "id": "e184a041",
   "metadata": {},
   "outputs": [],
   "source": [
    "# Drop last 46 rows of dataframe\n",
    "N = 46\n",
    "stocks_clean.drop(index = stocks_clean.index[-N:], axis=0, inplace=True)"
   ]
  },
  {
   "cell_type": "code",
   "execution_count": 11,
   "id": "f9728893",
   "metadata": {},
   "outputs": [
    {
     "data": {
      "text/plain": [
       "(1700, 4)"
      ]
     },
     "execution_count": 11,
     "metadata": {},
     "output_type": "execute_result"
    }
   ],
   "source": [
    "stocks_clean.shape"
   ]
  },
  {
   "cell_type": "code",
   "execution_count": 12,
   "id": "4534e6b2",
   "metadata": {},
   "outputs": [],
   "source": [
    "# exporting\n",
    "stocks_clean.to_csv('stocks_clean.csv', index = False)"
   ]
  },
  {
   "cell_type": "code",
   "execution_count": null,
   "id": "63903352",
   "metadata": {},
   "outputs": [],
   "source": []
  }
 ],
 "metadata": {
  "kernelspec": {
   "display_name": "Python 3",
   "language": "python",
   "name": "python3"
  },
  "language_info": {
   "codemirror_mode": {
    "name": "ipython",
    "version": 3
   },
   "file_extension": ".py",
   "mimetype": "text/x-python",
   "name": "python",
   "nbconvert_exporter": "python",
   "pygments_lexer": "ipython3",
   "version": "3.8.8"
  }
 },
 "nbformat": 4,
 "nbformat_minor": 5
}
